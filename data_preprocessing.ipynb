{
 "cells": [
  {
   "cell_type": "code",
   "execution_count": 2,
   "metadata": {},
   "outputs": [],
   "source": [
    "import pandas as pd\n",
    "import numpy as np\n",
    "import matplotlib.pyplot as plt\n",
    "import wbdata as wb\n",
    "import datetime as dt\n",
    "import seaborn as sns\n",
    "import geopandas as gpd\n",
    "%matplotlib inline"
   ]
  },
  {
   "cell_type": "code",
   "execution_count": 3,
   "metadata": {},
   "outputs": [
    {
     "name": "stdout",
     "output_type": "stream",
     "text": [
      "1 \tDoing Business\n",
      "2 \tWorld Development Indicators\n",
      "3 \tWorldwide Governance Indicators\n",
      "5 \tSubnational Malnutrition Database\n",
      "6 \tInternational Debt Statistics\n",
      "11\tAfrica Development Indicators\n",
      "12\tEducation Statistics\n",
      "13\tEnterprise Surveys\n",
      "14\tGender Statistics\n",
      "15\tGlobal Economic Monitor\n",
      "16\tHealth Nutrition and Population Statistics\n",
      "18\tIDA Results Measurement System\n",
      "19\tMillennium Development Goals\n",
      "20\tQuarterly Public Sector Debt\n",
      "22\tQuarterly External Debt Statistics SDDS\n",
      "23\tQuarterly External Debt Statistics GDDS\n",
      "24\tPoverty and Equity\n",
      "25\tJobs\n",
      "27\tGlobal Economic Prospects\n",
      "28\tGlobal Financial Inclusion\n",
      "29\tThe Atlas of Social Protection: Indicators of Resilience and Equity\n",
      "30\tExporter Dynamics Database ��� Indicators at Country-Year Level\n",
      "31\tCountry Policy and Institutional Assessment\n",
      "32\tGlobal Financial Development\n",
      "33\tG20 Financial Inclusion Indicators\n",
      "34\tGlobal Partnership for Education\n",
      "35\tSustainable Energy for All\n",
      "36\tStatistical Capacity Indicators\n",
      "37\tLAC Equity Lab\n",
      "38\tSubnational Poverty\n",
      "39\tHealth Nutrition and Population Statistics by Wealth Quintile\n",
      "40\tPopulation estimates and projections\n",
      "41\tCountry Partnership Strategy for India (FY2013 - 17)\n",
      "43\tAdjusted Net Savings\n",
      "44\tReadiness for Investment in Sustainable Energy\n",
      "45\tIndonesia Database for Policy and Economic Research\n",
      "46\tSustainable Development Goals \n",
      "50\tSubnational Population\n",
      "54\tJoint External Debt Hub\n",
      "57\tWDI Database Archives\n",
      "58\tUniversal Health Coverage\n",
      "59\tWealth Accounts\n",
      "60\tEconomic Fitness\n",
      "61\tPPPs Regulatory Quality\n",
      "62\tInternational Comparison Program (ICP) 2011\n",
      "63\tHuman Capital Index\n",
      "64\tWorldwide Bureaucracy Indicators\n",
      "65\tHealth Equity and Financial Protection Indicators\n",
      "66\tLogistics Performance Index\n",
      "67\tPEFA 2011\n",
      "68\tPEFA 2016\n",
      "69\tGlobal Financial Inclusion and Consumer Protection Survey\n",
      "70\tEconomic Fitness 2\n",
      "71\tInternational Comparison Program (ICP) 2005\n",
      "72\tPEFA_Test\n",
      "73\tGlobal Financial Inclusion and Consumer Protection Survey (Internal)\n",
      "75\tEnvironment, Social and Governance (ESG) Data\n"
     ]
    }
   ],
   "source": [
    "wb.get_source()"
   ]
  },
  {
   "cell_type": "code",
   "execution_count": 110,
   "metadata": {},
   "outputs": [
    {
     "name": "stdout",
     "output_type": "stream",
     "text": [
      "SH.DTH.IMRT      \tNumber of infant deaths\n",
      "SP.DTH.INFR.ZS   \tCompleteness of infant death reporting (% of reported infant deaths to estimated infant deaths)\n",
      "SP.DYN.IMRT.FE.IN\tMortality rate, infant, female (per 1,000 live births)\n",
      "SP.DYN.IMRT.IN   \tMortality rate, infant (per 1,000 live births)\n",
      "SP.DYN.IMRT.MA.IN\tMortality rate, infant, male (per 1,000 live births)\n"
     ]
    }
   ],
   "source": [
    "wb.search_indicators('infant',source=2)"
   ]
  },
  {
   "cell_type": "code",
   "execution_count": 5,
   "metadata": {},
   "outputs": [],
   "source": [
    "indicator = 'SH.DTH.IMRT'"
   ]
  },
  {
   "cell_type": "code",
   "execution_count": 6,
   "metadata": {},
   "outputs": [],
   "source": [
    "ind = wb.get_indicator(indicator, display=False)"
   ]
  },
  {
   "cell_type": "code",
   "execution_count": 7,
   "metadata": {},
   "outputs": [
    {
     "data": {
      "text/plain": [
       "[{'id': 'SH.DTH.IMRT',\n",
       "  'name': 'Number of infant deaths',\n",
       "  'source': {'id': '2', 'value': 'World Development Indicators'},\n",
       "  'sourceNote': 'Number of infants dying before reaching one year of age.',\n",
       "  'sourceOrganization': 'Estimates developed by the UN Inter-agency Group for Child Mortality Estimation (UNICEF, WHO, World Bank, UN DESA Population Division) at www.childmortality.org.',\n",
       "  'topics': [{'id': '8', 'value': 'Health '}]}]"
      ]
     },
     "execution_count": 7,
     "metadata": {},
     "output_type": "execute_result"
    }
   ],
   "source": [
    "ind"
   ]
  },
  {
   "cell_type": "code",
   "execution_count": 8,
   "metadata": {},
   "outputs": [
    {
     "data": {
      "text/plain": [
       "'Number of infant deaths'"
      ]
     },
     "execution_count": 8,
     "metadata": {},
     "output_type": "execute_result"
    }
   ],
   "source": [
    "ind[0]['name']"
   ]
  },
  {
   "cell_type": "code",
   "execution_count": 9,
   "metadata": {},
   "outputs": [],
   "source": [
    "start_date = 2000\n",
    "end_date = 2015\n",
    "data_dates = (dt.datetime(start_date,1,1), dt.datetime(end_date,1,1))"
   ]
  },
  {
   "cell_type": "code",
   "execution_count": 10,
   "metadata": {},
   "outputs": [],
   "source": [
    "data = wb.get_dataframe({indicator:'values'},\n",
    "                       country=('PAK','IND','SAU'),\n",
    "                       data_date = data_dates,\n",
    "                       convert_date=False,\n",
    "                       keep_levels=True)"
   ]
  },
  {
   "cell_type": "code",
   "execution_count": 11,
   "metadata": {},
   "outputs": [
    {
     "data": {
      "text/html": [
       "<div>\n",
       "<style scoped>\n",
       "    .dataframe tbody tr th:only-of-type {\n",
       "        vertical-align: middle;\n",
       "    }\n",
       "\n",
       "    .dataframe tbody tr th {\n",
       "        vertical-align: top;\n",
       "    }\n",
       "\n",
       "    .dataframe thead th {\n",
       "        text-align: right;\n",
       "    }\n",
       "</style>\n",
       "<table border=\"1\" class=\"dataframe\">\n",
       "  <thead>\n",
       "    <tr style=\"text-align: right;\">\n",
       "      <th></th>\n",
       "      <th></th>\n",
       "      <th>values</th>\n",
       "    </tr>\n",
       "    <tr>\n",
       "      <th>country</th>\n",
       "      <th>date</th>\n",
       "      <th></th>\n",
       "    </tr>\n",
       "  </thead>\n",
       "  <tbody>\n",
       "    <tr>\n",
       "      <th rowspan=\"5\" valign=\"top\">India</th>\n",
       "      <th>2015</th>\n",
       "      <td>852225.0</td>\n",
       "    </tr>\n",
       "    <tr>\n",
       "      <th>2014</th>\n",
       "      <td>906429.0</td>\n",
       "    </tr>\n",
       "    <tr>\n",
       "      <th>2013</th>\n",
       "      <td>966160.0</td>\n",
       "    </tr>\n",
       "    <tr>\n",
       "      <th>2012</th>\n",
       "      <td>1031595.0</td>\n",
       "    </tr>\n",
       "    <tr>\n",
       "      <th>2011</th>\n",
       "      <td>1101251.0</td>\n",
       "    </tr>\n",
       "  </tbody>\n",
       "</table>\n",
       "</div>"
      ],
      "text/plain": [
       "                 values\n",
       "country date           \n",
       "India   2015   852225.0\n",
       "        2014   906429.0\n",
       "        2013   966160.0\n",
       "        2012  1031595.0\n",
       "        2011  1101251.0"
      ]
     },
     "execution_count": 11,
     "metadata": {},
     "output_type": "execute_result"
    }
   ],
   "source": [
    "data.head()"
   ]
  },
  {
   "cell_type": "code",
   "execution_count": 12,
   "metadata": {},
   "outputs": [],
   "source": [
    "data.dropna(inplace=True)"
   ]
  },
  {
   "cell_type": "code",
   "execution_count": 13,
   "metadata": {},
   "outputs": [],
   "source": [
    "data = data.reset_index()"
   ]
  },
  {
   "cell_type": "code",
   "execution_count": 14,
   "metadata": {},
   "outputs": [
    {
     "data": {
      "text/html": [
       "<div>\n",
       "<style scoped>\n",
       "    .dataframe tbody tr th:only-of-type {\n",
       "        vertical-align: middle;\n",
       "    }\n",
       "\n",
       "    .dataframe tbody tr th {\n",
       "        vertical-align: top;\n",
       "    }\n",
       "\n",
       "    .dataframe thead th {\n",
       "        text-align: right;\n",
       "    }\n",
       "</style>\n",
       "<table border=\"1\" class=\"dataframe\">\n",
       "  <thead>\n",
       "    <tr style=\"text-align: right;\">\n",
       "      <th></th>\n",
       "      <th>country</th>\n",
       "      <th>date</th>\n",
       "      <th>values</th>\n",
       "    </tr>\n",
       "  </thead>\n",
       "  <tbody>\n",
       "    <tr>\n",
       "      <th>0</th>\n",
       "      <td>India</td>\n",
       "      <td>2015</td>\n",
       "      <td>852225.0</td>\n",
       "    </tr>\n",
       "    <tr>\n",
       "      <th>1</th>\n",
       "      <td>India</td>\n",
       "      <td>2014</td>\n",
       "      <td>906429.0</td>\n",
       "    </tr>\n",
       "    <tr>\n",
       "      <th>2</th>\n",
       "      <td>India</td>\n",
       "      <td>2013</td>\n",
       "      <td>966160.0</td>\n",
       "    </tr>\n",
       "    <tr>\n",
       "      <th>3</th>\n",
       "      <td>India</td>\n",
       "      <td>2012</td>\n",
       "      <td>1031595.0</td>\n",
       "    </tr>\n",
       "    <tr>\n",
       "      <th>4</th>\n",
       "      <td>India</td>\n",
       "      <td>2011</td>\n",
       "      <td>1101251.0</td>\n",
       "    </tr>\n",
       "  </tbody>\n",
       "</table>\n",
       "</div>"
      ],
      "text/plain": [
       "  country  date     values\n",
       "0   India  2015   852225.0\n",
       "1   India  2014   906429.0\n",
       "2   India  2013   966160.0\n",
       "3   India  2012  1031595.0\n",
       "4   India  2011  1101251.0"
      ]
     },
     "execution_count": 14,
     "metadata": {},
     "output_type": "execute_result"
    }
   ],
   "source": [
    "data.head()"
   ]
  },
  {
   "cell_type": "code",
   "execution_count": 53,
   "metadata": {},
   "outputs": [],
   "source": [
    "df = gpd.read_file('world_countries.json')"
   ]
  },
  {
   "cell_type": "code",
   "execution_count": 68,
   "metadata": {},
   "outputs": [],
   "source": [
    "def get_country_indicator(country, indicator, start, end):\n",
    "    data_dates = (dt.datetime(start,1,1), dt.datetime(end,1,1))\n",
    "    data = wb.get_dataframe({indicator:'indicator'},\n",
    "                       country=country,\n",
    "                       data_date = data_dates,\n",
    "                       convert_date=False,\n",
    "                       keep_levels=True)\n",
    "    data = data.reset_index()\n",
    "    return data[['indicator']]"
   ]
  },
  {
   "cell_type": "code",
   "execution_count": 104,
   "metadata": {},
   "outputs": [],
   "source": [
    "def get_country_data(country, indicator, start, end):\n",
    "    data_dates = (dt.datetime(start,1,1), dt.datetime(end,1,1))\n",
    "    data = wb.get_dataframe({indicator:'indicator'},\n",
    "                       country=country,\n",
    "                       data_date = data_dates,\n",
    "                       convert_date=False,\n",
    "                       keep_levels=True)\n",
    "    data = data.reset_index()\n",
    "    \n",
    "    new_df = pd.DataFrame()\n",
    "    new_df = new_df.append(df[df['id']==country])\n",
    "    geometry = str(new_df.iloc[0,2])\n",
    "        \n",
    "    data['geometry'] = geometry\n",
    "    return data"
   ]
  },
  {
   "cell_type": "code",
   "execution_count": 105,
   "metadata": {
    "scrolled": false
   },
   "outputs": [
    {
     "data": {
      "text/html": [
       "<div>\n",
       "<style scoped>\n",
       "    .dataframe tbody tr th:only-of-type {\n",
       "        vertical-align: middle;\n",
       "    }\n",
       "\n",
       "    .dataframe tbody tr th {\n",
       "        vertical-align: top;\n",
       "    }\n",
       "\n",
       "    .dataframe thead th {\n",
       "        text-align: right;\n",
       "    }\n",
       "</style>\n",
       "<table border=\"1\" class=\"dataframe\">\n",
       "  <thead>\n",
       "    <tr style=\"text-align: right;\">\n",
       "      <th></th>\n",
       "      <th>country</th>\n",
       "      <th>date</th>\n",
       "      <th>indicator</th>\n",
       "      <th>geometry</th>\n",
       "    </tr>\n",
       "  </thead>\n",
       "  <tbody>\n",
       "    <tr>\n",
       "      <th>0</th>\n",
       "      <td>Pakistan</td>\n",
       "      <td>2005</td>\n",
       "      <td>396089.0</td>\n",
       "      <td>POLYGON ((75.158028 37.133031, 75.896897 36.66...</td>\n",
       "    </tr>\n",
       "    <tr>\n",
       "      <th>1</th>\n",
       "      <td>Pakistan</td>\n",
       "      <td>2004</td>\n",
       "      <td>401342.0</td>\n",
       "      <td>POLYGON ((75.158028 37.133031, 75.896897 36.66...</td>\n",
       "    </tr>\n",
       "    <tr>\n",
       "      <th>2</th>\n",
       "      <td>Pakistan</td>\n",
       "      <td>2003</td>\n",
       "      <td>406927.0</td>\n",
       "      <td>POLYGON ((75.158028 37.133031, 75.896897 36.66...</td>\n",
       "    </tr>\n",
       "    <tr>\n",
       "      <th>3</th>\n",
       "      <td>Pakistan</td>\n",
       "      <td>2002</td>\n",
       "      <td>412706.0</td>\n",
       "      <td>POLYGON ((75.158028 37.133031, 75.896897 36.66...</td>\n",
       "    </tr>\n",
       "    <tr>\n",
       "      <th>4</th>\n",
       "      <td>Pakistan</td>\n",
       "      <td>2001</td>\n",
       "      <td>418872.0</td>\n",
       "      <td>POLYGON ((75.158028 37.133031, 75.896897 36.66...</td>\n",
       "    </tr>\n",
       "  </tbody>\n",
       "</table>\n",
       "</div>"
      ],
      "text/plain": [
       "    country  date  indicator  \\\n",
       "0  Pakistan  2005   396089.0   \n",
       "1  Pakistan  2004   401342.0   \n",
       "2  Pakistan  2003   406927.0   \n",
       "3  Pakistan  2002   412706.0   \n",
       "4  Pakistan  2001   418872.0   \n",
       "\n",
       "                                            geometry  \n",
       "0  POLYGON ((75.158028 37.133031, 75.896897 36.66...  \n",
       "1  POLYGON ((75.158028 37.133031, 75.896897 36.66...  \n",
       "2  POLYGON ((75.158028 37.133031, 75.896897 36.66...  \n",
       "3  POLYGON ((75.158028 37.133031, 75.896897 36.66...  \n",
       "4  POLYGON ((75.158028 37.133031, 75.896897 36.66...  "
      ]
     },
     "execution_count": 105,
     "metadata": {},
     "output_type": "execute_result"
    }
   ],
   "source": [
    "get_country_data('PAK', indicator, 2001, 2005)"
   ]
  },
  {
   "cell_type": "code",
   "execution_count": 106,
   "metadata": {},
   "outputs": [
    {
     "data": {
      "text/html": [
       "<div>\n",
       "<style scoped>\n",
       "    .dataframe tbody tr th:only-of-type {\n",
       "        vertical-align: middle;\n",
       "    }\n",
       "\n",
       "    .dataframe tbody tr th {\n",
       "        vertical-align: top;\n",
       "    }\n",
       "\n",
       "    .dataframe thead th {\n",
       "        text-align: right;\n",
       "    }\n",
       "</style>\n",
       "<table border=\"1\" class=\"dataframe\">\n",
       "  <thead>\n",
       "    <tr style=\"text-align: right;\">\n",
       "      <th></th>\n",
       "      <th>indicator</th>\n",
       "    </tr>\n",
       "  </thead>\n",
       "  <tbody>\n",
       "    <tr>\n",
       "      <th>0</th>\n",
       "      <td>355142.0</td>\n",
       "    </tr>\n",
       "    <tr>\n",
       "      <th>1</th>\n",
       "      <td>358949.0</td>\n",
       "    </tr>\n",
       "    <tr>\n",
       "      <th>2</th>\n",
       "      <td>362500.0</td>\n",
       "    </tr>\n",
       "    <tr>\n",
       "      <th>3</th>\n",
       "      <td>365791.0</td>\n",
       "    </tr>\n",
       "    <tr>\n",
       "      <th>4</th>\n",
       "      <td>369497.0</td>\n",
       "    </tr>\n",
       "    <tr>\n",
       "      <th>5</th>\n",
       "      <td>373377.0</td>\n",
       "    </tr>\n",
       "    <tr>\n",
       "      <th>6</th>\n",
       "      <td>377537.0</td>\n",
       "    </tr>\n",
       "    <tr>\n",
       "      <th>7</th>\n",
       "      <td>381933.0</td>\n",
       "    </tr>\n",
       "    <tr>\n",
       "      <th>8</th>\n",
       "      <td>386470.0</td>\n",
       "    </tr>\n",
       "    <tr>\n",
       "      <th>9</th>\n",
       "      <td>391112.0</td>\n",
       "    </tr>\n",
       "    <tr>\n",
       "      <th>10</th>\n",
       "      <td>396089.0</td>\n",
       "    </tr>\n",
       "    <tr>\n",
       "      <th>11</th>\n",
       "      <td>401342.0</td>\n",
       "    </tr>\n",
       "    <tr>\n",
       "      <th>12</th>\n",
       "      <td>406927.0</td>\n",
       "    </tr>\n",
       "    <tr>\n",
       "      <th>13</th>\n",
       "      <td>412706.0</td>\n",
       "    </tr>\n",
       "    <tr>\n",
       "      <th>14</th>\n",
       "      <td>418872.0</td>\n",
       "    </tr>\n",
       "  </tbody>\n",
       "</table>\n",
       "</div>"
      ],
      "text/plain": [
       "    indicator\n",
       "0    355142.0\n",
       "1    358949.0\n",
       "2    362500.0\n",
       "3    365791.0\n",
       "4    369497.0\n",
       "5    373377.0\n",
       "6    377537.0\n",
       "7    381933.0\n",
       "8    386470.0\n",
       "9    391112.0\n",
       "10   396089.0\n",
       "11   401342.0\n",
       "12   406927.0\n",
       "13   412706.0\n",
       "14   418872.0"
      ]
     },
     "execution_count": 106,
     "metadata": {},
     "output_type": "execute_result"
    }
   ],
   "source": [
    "country_data('PAK',indicator,2001,2015)"
   ]
  },
  {
   "cell_type": "code",
   "execution_count": 52,
   "metadata": {},
   "outputs": [],
   "source": [
    "SMALL_SIZE = 8\n",
    "MEDIUM_SIZE = 12\n",
    "BIGGER_SIZE = 17\n",
    "\n",
    "plt.rc('font', size=SMALL_SIZE)          # controls default text sizes\n",
    "plt.rc('axes', titlesize=BIGGER_SIZE)     # fontsize of the axes title\n",
    "plt.rc('axes', labelsize=BIGGER_SIZE)    # fontsize of the x and y labels\n",
    "plt.rc('xtick', labelsize=BIGGER_SIZE)    # fontsize of the tick labels\n",
    "plt.rc('ytick', labelsize=MEDIUM_SIZE)    # fontsize of the tick labels\n",
    "plt.rc('legend', fontsize=BIGGER_SIZE)    # legend fontsize\n",
    "plt.rc('figure', titlesize=BIGGER_SIZE)  # fontsize of the figure title"
   ]
  },
  {
   "cell_type": "code",
   "execution_count": 65,
   "metadata": {},
   "outputs": [],
   "source": [
    "def plot_data(indicator, countries, start=2000, end=2015):\n",
    "    ind = wb.get_indicator(indicator, display=False)\n",
    "    \n",
    "    title = ind[0]['name']\n",
    "    \n",
    "    new_df = pd.DataFrame()\n",
    "\n",
    "    for country in countries:\n",
    "        new_df = new_df.append(df[df['id']==country])\n",
    "    new_df.geometry.plot()\n",
    "    plt.axis('off')\n",
    "    \n",
    "    fig, axis = plt.subplots(figsize=(20,10))\n",
    "    sns.set_style('white')\n",
    "    \n",
    "    for country in countries:\n",
    "        axis.plot(range(start,end+1), get_country_indicator(country,indicator,start,end), marker='o')\n",
    "        axis.set_ylabel('deaths')\n",
    "        axis.set_title(title)\n",
    "        \n",
    "    plt.legend(countries)\n",
    "    plt.title = title\n",
    "    plt.ylabel = \"deaths\"\n",
    "    plt.show()"
   ]
  },
  {
   "cell_type": "code",
   "execution_count": 66,
   "metadata": {},
   "outputs": [
    {
     "data": {
      "image/png": "[encoded data removed]",
      "text/plain": [
       "<Figure size 432x288 with 1 Axes>"
      ]
     },
     "metadata": {},
     "output_type": "display_data"
    },
    {
     "data": {
      "image/png": "[encoded data removed]",
      "text/plain": [
       "<Figure size 1440x720 with 1 Axes>"
      ]
     },
     "metadata": {},
     "output_type": "display_data"
    }
   ],
   "source": [
    "plot_data(indicator, ['PAK','SAU','CAN','IND'], 2001, 2016)"
   ]
  },
  {
   "cell_type": "code",
   "execution_count": null,
   "metadata": {},
   "outputs": [],
   "source": []
  }
 ],
 "metadata": {
  "kernelspec": {
   "display_name": "Python 3",
   "language": "python",
   "name": "python3"
  },
  "language_info": {
   "codemirror_mode": {
    "name": "ipython",
    "version": 3
   },
   "file_extension": ".py",
   "mimetype": "text/x-python",
   "name": "python",
   "nbconvert_exporter": "python",
   "pygments_lexer": "ipython3",
   "version": "3.6.8"
  }
 },
 "nbformat": 4,
 "nbformat_minor": 2
}
